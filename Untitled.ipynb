{
 "cells": [
  {
   "cell_type": "markdown",
   "id": "378875e3",
   "metadata": {},
   "source": [
    "![img](https://hu227zro48.execute-api.us-west-2.amazonaws.com/default/ExperimentNotebookTest?nb=Untitled)"
   ]
  },
  {
   "cell_type": "code",
   "execution_count": null,
   "id": "251fff85",
   "metadata": {},
   "outputs": [],
   "source": []
  }
 ],
 "metadata": {
  "kernelspec": {
   "display_name": "conda_python3",
   "language": "python",
   "name": "conda_python3"
  },
  "language_info": {
   "codemirror_mode": {
    "name": "ipython",
    "version": 3
   },
   "file_extension": ".py",
   "mimetype": "text/x-python",
   "name": "python",
   "nbconvert_exporter": "python",
   "pygments_lexer": "ipython3",
   "version": "3.8.12"
  }
 },
 "nbformat": 4,
 "nbformat_minor": 5
}

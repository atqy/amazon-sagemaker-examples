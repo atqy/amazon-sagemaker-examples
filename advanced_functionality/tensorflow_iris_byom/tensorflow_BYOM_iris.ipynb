{
 "cells": [
  {
   "cell_type": "markdown",
   "metadata": {},
   "source": [
    "# TensorFlow BYOM: Train locally and deploy on SageMaker.\n",
    "\n",
    "\n",
    "1. [Introduction](#Introduction)\n",
    "2. [Prerequisites and Preprocessing](#Prequisites-and-Preprocessing)\n",
    "    1. [Permissions and environment variables](#Permissions-and-environment-variables)\n",
    "    2. [Model definitions](#Model-definitions)\n",
    "    3. [Data Setup](#Data-setup)\n",
    "3. [Training the network locally](#Training)\n",
    "4. [Set up hosting for the model](#Set-up-hosting-for-the-model)\n",
    "    1. [Export from TensorFlow](#Export-the-model-from-tensorflow)\n",
    "    2. [Import model into SageMaker](#Import-model-into-SageMaker)\n",
    "    3. [Create endpoint](#Create-endpoint) \n",
    "5. [Validate the endpoint for use](#Validate-the-endpoint-for-use)\n",
    "\n",
    "__Note__: Compare this with the [tensorflow bring your own model example](../tensorflow_iris_byom/tensorflow_BYOM_iris.ipynb)"
   ]
  },
  {
   "cell_type": "markdown",
   "metadata": {},
   "source": [
    "Thie notebook was last tested on a ml.g4dn.xlarge (4 vCPU + 16 GiB + 1 GPU) instance running the Python 3 (TensorFlow 2.3 Python 3.7 GPU Optimized) kernel in SageMaker Studio."
   ]
  },
  {
   "cell_type": "markdown",
   "metadata": {},
   "source": [
    "## Introduction \n",
    "\n",
    "This notebook can be compared to [Iris classification example notebook](../tensorflow_iris_dnn_classifier_using_estimators/tensorflow_iris_dnn_classifier_using_estimators.ipynb) in terms of its functionality. We will do the same classification task, but we will train the same network on the notebook server. We then setup a real-time hosted endpoint in SageMaker.\n",
    "\n",
    "Consider the following model definition for IRIS classification. This mode uses the ``tensorflow.estimator.DNNClassifier`` which is a pre-defined estimator module for its model definition. The model definition is the same as the one used in the [Iris classification example notebook](../tensorflow_iris_dnn_classifier_using_estimators/tensorflow_iris_dnn_classifier_using_estimators.ipynb)\n",
    "\n",
    "## Prequisites and Preprocessing\n",
    "### Permissions and environment variables\n",
    "\n",
    "Here we set up the linkage and authentication to AWS services. In this notebook we only need the roles used to give learning and hosting access to your data. The Sagemaker SDK will use S3 defualt buckets when needed. If the ``get_execution_role``  does not return a role with the appropriate permissions, you'll need to specify an IAM role arn that does."
   ]
  },
  {
   "cell_type": "code",
   "execution_count": 1,
   "metadata": {},
   "outputs": [
    {
     "name": "stdout",
     "output_type": "stream",
     "text": [
      "Note: you may need to restart the kernel to use updated packages.\n"
     ]
    }
   ],
   "source": [
    "%pip install -r requirements.txt -q -q "
   ]
  },
  {
   "cell_type": "code",
   "execution_count": 2,
   "metadata": {
    "isConfigCell": true
   },
   "outputs": [],
   "source": [
    "import boto3\n",
    "import numpy as np\n",
    "import os\n",
    "import pandas as pd\n",
    "import re\n",
    "import sagemaker\n",
    "from sagemaker.tensorflow import TensorFlowModel\n",
    "import shutil\n",
    "import tarfile\n",
    "import tensorflow as tf\n",
    "from tensorflow.python.keras.utils.np_utils import to_categorical\n",
    "from tensorflow.keras.layers import Input, Dense\n",
    "\n",
    "role = sagemaker.get_execution_role()\n",
    "sm_session = sagemaker.Session()\n",
    "bucket_name = sm_session.default_bucket()"
   ]
  },
  {
   "cell_type": "markdown",
   "metadata": {},
   "source": [
    "### Model Definitions"
   ]
  },
  {
   "cell_type": "markdown",
   "metadata": {},
   "source": [
    "For this example, we'll use a very simple network architecture, with three densely-connected layers."
   ]
  },
  {
   "cell_type": "code",
   "execution_count": 3,
   "metadata": {},
   "outputs": [],
   "source": [
    "def iris_mlp(metrics):\n",
    "    ### Setup loss and output node activation\n",
    "    output_activation = \"softmax\"\n",
    "    loss = \"sparse_categorical_crossentropy\"\n",
    "\n",
    "    input = Input(shape=(4,), name=\"input\")\n",
    "\n",
    "    x = Dense(\n",
    "        units=10,\n",
    "        kernel_regularizer=tf.keras.regularizers.l2(0.001),\n",
    "        activation=\"relu\",\n",
    "        name=\"dense_layer1\",\n",
    "    )(input)\n",
    "\n",
    "    x = Dense(\n",
    "        units=20,\n",
    "        kernel_regularizer=tf.keras.regularizers.l2(0.001),\n",
    "        activation=\"relu\",\n",
    "        name=\"dense_layer2\",\n",
    "    )(x)\n",
    "\n",
    "    x = Dense(\n",
    "        units=10,\n",
    "        activation=\"relu\",\n",
    "        kernel_regularizer=tf.keras.regularizers.l2(0.001),\n",
    "        name=\"dense_layer3\",\n",
    "    )(x)\n",
    "\n",
    "    output = Dense(units=3, activation=output_activation)(x)\n",
    "\n",
    "    ### Compile the model\n",
    "    model = tf.keras.Model(input, output)\n",
    "\n",
    "    model.compile(optimizer=\"adam\", loss=loss, metrics=metrics)\n",
    "\n",
    "    return model"
   ]
  },
  {
   "cell_type": "markdown",
   "metadata": {},
   "source": [
    "### Data Setup"
   ]
  },
  {
   "cell_type": "markdown",
   "metadata": {},
   "source": [
    "We'll use the pre-processed iris training and test data stored in the `sagemaker-sample-files` public S3 bucket."
   ]
  },
  {
   "cell_type": "code",
   "execution_count": 4,
   "metadata": {},
   "outputs": [],
   "source": [
    "# Download iris test and train data sets from S3\n",
    "SOURCE_DATA_BUCKET = \"sagemaker-sample-files\"\n",
    "SOURCE_DATA_PREFIX = \"datasets/tabular/iris\"\n",
    "sm_session.download_data(\".\", bucket=SOURCE_DATA_BUCKET, key_prefix=SOURCE_DATA_PREFIX)\n",
    "\n",
    "# Load the training and test data from .csv to a Pandas data frame.\n",
    "train_df = pd.read_csv(\n",
    "    \"iris_train.csv\",\n",
    "    header=0,\n",
    "    names=[\"sepal_length\", \"sepal_width\", \"petal_length\", \"petal_width\", \"class\"],\n",
    ")\n",
    "test_df = pd.read_csv(\n",
    "    \"iris_test.csv\",\n",
    "    header=0,\n",
    "    names=[\"sepal_length\", \"sepal_width\", \"petal_length\", \"petal_width\", \"class\"],\n",
    ")\n",
    "\n",
    "# Pop the record labels into N x 1 Numpy arrays\n",
    "train_labels = np.array(train_df.pop(\"class\"))\n",
    "test_labels = np.array(test_df.pop(\"class\"))\n",
    "\n",
    "# Save the remaining features as Numpy arrays\n",
    "train_np = np.array(train_df)\n",
    "test_np = np.array(test_df)"
   ]
  },
  {
   "cell_type": "markdown",
   "metadata": {},
   "source": [
    "## Training the Network Locally"
   ]
  },
  {
   "cell_type": "markdown",
   "metadata": {},
   "source": [
    "Here, we train the network using the Tensorflow .fit method, just like if we were using our local computers. This should only take a few seconds because the model is so simple."
   ]
  },
  {
   "cell_type": "code",
   "execution_count": 5,
   "metadata": {},
   "outputs": [
    {
     "name": "stdout",
     "output_type": "stream",
     "text": [
      "[2022-01-25 16:56:41.859 tensorflow-2-3-gpu--ml-g4dn-xlarge-857ba94c8ff520cf618cce107153:339 INFO utils.py:27] RULE_JOB_STOP_SIGNAL_FILENAME: None\n",
      "[2022-01-25 16:56:41.884 tensorflow-2-3-gpu--ml-g4dn-xlarge-857ba94c8ff520cf618cce107153:339 INFO profiler_config_parser.py:102] Unable to find config at /opt/ml/input/config/profilerconfig.json. Profiler is disabled.\n",
      "Epoch 1/50\n",
      "4/4 [==============================] - 0s 44ms/step - loss: 2.2799 - accuracy: 0.3500 - binary_accuracy: 0.3333 - val_loss: 1.8217 - val_accuracy: 0.2667 - val_binary_accuracy: 0.3333\n",
      "Epoch 2/50\n",
      "4/4 [==============================] - 0s 6ms/step - loss: 2.0975 - accuracy: 0.3500 - binary_accuracy: 0.3417 - val_loss: 1.6793 - val_accuracy: 0.2667 - val_binary_accuracy: 0.3444\n",
      "Epoch 3/50\n",
      "4/4 [==============================] - 0s 5ms/step - loss: 1.9326 - accuracy: 0.3500 - binary_accuracy: 0.4056 - val_loss: 1.5528 - val_accuracy: 0.2667 - val_binary_accuracy: 0.3333\n",
      "Epoch 4/50\n",
      "4/4 [==============================] - 0s 5ms/step - loss: 1.7717 - accuracy: 0.3667 - binary_accuracy: 0.3667 - val_loss: 1.4423 - val_accuracy: 0.3333 - val_binary_accuracy: 0.2667\n",
      "Epoch 5/50\n",
      "4/4 [==============================] - 0s 5ms/step - loss: 1.6216 - accuracy: 0.4333 - binary_accuracy: 0.3500 - val_loss: 1.3468 - val_accuracy: 0.5667 - val_binary_accuracy: 0.2667\n",
      "Epoch 6/50\n",
      "4/4 [==============================] - 0s 6ms/step - loss: 1.4931 - accuracy: 0.5417 - binary_accuracy: 0.3500 - val_loss: 1.2629 - val_accuracy: 0.6000 - val_binary_accuracy: 0.2667\n",
      "Epoch 7/50\n",
      "4/4 [==============================] - 0s 5ms/step - loss: 1.3781 - accuracy: 0.5750 - binary_accuracy: 0.3500 - val_loss: 1.1890 - val_accuracy: 0.6000 - val_binary_accuracy: 0.2667\n",
      "Epoch 8/50\n",
      "4/4 [==============================] - 0s 5ms/step - loss: 1.2748 - accuracy: 0.5750 - binary_accuracy: 0.3500 - val_loss: 1.1260 - val_accuracy: 0.6000 - val_binary_accuracy: 0.2667\n",
      "Epoch 9/50\n",
      "4/4 [==============================] - 0s 6ms/step - loss: 1.1766 - accuracy: 0.5750 - binary_accuracy: 0.3500 - val_loss: 1.0746 - val_accuracy: 0.6667 - val_binary_accuracy: 0.2667\n",
      "Epoch 10/50\n",
      "4/4 [==============================] - 0s 6ms/step - loss: 1.1029 - accuracy: 0.5917 - binary_accuracy: 0.3500 - val_loss: 1.0379 - val_accuracy: 0.6667 - val_binary_accuracy: 0.2667\n",
      "Epoch 11/50\n",
      "4/4 [==============================] - 0s 5ms/step - loss: 1.0294 - accuracy: 0.6000 - binary_accuracy: 0.3500 - val_loss: 1.0143 - val_accuracy: 0.7667 - val_binary_accuracy: 0.2667\n",
      "Epoch 12/50\n",
      "4/4 [==============================] - 0s 5ms/step - loss: 0.9797 - accuracy: 0.7167 - binary_accuracy: 0.3500 - val_loss: 0.9981 - val_accuracy: 0.5333 - val_binary_accuracy: 0.2667\n",
      "Epoch 13/50\n",
      "4/4 [==============================] - 0s 5ms/step - loss: 0.9408 - accuracy: 0.7000 - binary_accuracy: 0.3500 - val_loss: 0.9870 - val_accuracy: 0.5333 - val_binary_accuracy: 0.2667\n",
      "Epoch 14/50\n",
      "4/4 [==============================] - 0s 5ms/step - loss: 0.9130 - accuracy: 0.7000 - binary_accuracy: 0.3528 - val_loss: 0.9831 - val_accuracy: 0.5333 - val_binary_accuracy: 0.2667\n",
      "Epoch 15/50\n",
      "4/4 [==============================] - 0s 6ms/step - loss: 0.8907 - accuracy: 0.7000 - binary_accuracy: 0.3583 - val_loss: 0.9740 - val_accuracy: 0.5333 - val_binary_accuracy: 0.3000\n",
      "Epoch 16/50\n",
      "4/4 [==============================] - 0s 5ms/step - loss: 0.8715 - accuracy: 0.7000 - binary_accuracy: 0.3667 - val_loss: 0.9601 - val_accuracy: 0.5333 - val_binary_accuracy: 0.2778\n",
      "Epoch 17/50\n",
      "4/4 [==============================] - 0s 5ms/step - loss: 0.8493 - accuracy: 0.7000 - binary_accuracy: 0.3389 - val_loss: 0.9388 - val_accuracy: 0.5333 - val_binary_accuracy: 0.2333\n",
      "Epoch 18/50\n",
      "4/4 [==============================] - 0s 5ms/step - loss: 0.8259 - accuracy: 0.7000 - binary_accuracy: 0.2639 - val_loss: 0.9127 - val_accuracy: 0.5333 - val_binary_accuracy: 0.2111\n",
      "Epoch 19/50\n",
      "4/4 [==============================] - 0s 6ms/step - loss: 0.8027 - accuracy: 0.7000 - binary_accuracy: 0.2417 - val_loss: 0.8848 - val_accuracy: 0.5333 - val_binary_accuracy: 0.1889\n",
      "Epoch 20/50\n",
      "4/4 [==============================] - 0s 6ms/step - loss: 0.7802 - accuracy: 0.7000 - binary_accuracy: 0.2417 - val_loss: 0.8603 - val_accuracy: 0.5333 - val_binary_accuracy: 0.1889\n",
      "Epoch 21/50\n",
      "4/4 [==============================] - 0s 6ms/step - loss: 0.7592 - accuracy: 0.7000 - binary_accuracy: 0.2417 - val_loss: 0.8359 - val_accuracy: 0.5333 - val_binary_accuracy: 0.1889\n",
      "Epoch 22/50\n",
      "4/4 [==============================] - 0s 5ms/step - loss: 0.7385 - accuracy: 0.7083 - binary_accuracy: 0.2417 - val_loss: 0.8141 - val_accuracy: 0.5667 - val_binary_accuracy: 0.1889\n",
      "Epoch 23/50\n",
      "4/4 [==============================] - 0s 5ms/step - loss: 0.7182 - accuracy: 0.7167 - binary_accuracy: 0.2417 - val_loss: 0.7938 - val_accuracy: 0.6000 - val_binary_accuracy: 0.1889\n",
      "Epoch 24/50\n",
      "4/4 [==============================] - 0s 5ms/step - loss: 0.6985 - accuracy: 0.7417 - binary_accuracy: 0.2417 - val_loss: 0.7735 - val_accuracy: 0.6000 - val_binary_accuracy: 0.1889\n",
      "Epoch 25/50\n",
      "4/4 [==============================] - 0s 6ms/step - loss: 0.6791 - accuracy: 0.7667 - binary_accuracy: 0.2417 - val_loss: 0.7559 - val_accuracy: 0.6333 - val_binary_accuracy: 0.1889\n",
      "Epoch 26/50\n",
      "4/4 [==============================] - 0s 6ms/step - loss: 0.6601 - accuracy: 0.7917 - binary_accuracy: 0.2417 - val_loss: 0.7391 - val_accuracy: 0.6333 - val_binary_accuracy: 0.1889\n",
      "Epoch 27/50\n",
      "4/4 [==============================] - 0s 6ms/step - loss: 0.6418 - accuracy: 0.8167 - binary_accuracy: 0.2417 - val_loss: 0.7234 - val_accuracy: 0.6667 - val_binary_accuracy: 0.2000\n",
      "Epoch 28/50\n",
      "4/4 [==============================] - 0s 5ms/step - loss: 0.6251 - accuracy: 0.8167 - binary_accuracy: 0.2417 - val_loss: 0.7092 - val_accuracy: 0.7000 - val_binary_accuracy: 0.2000\n",
      "Epoch 29/50\n",
      "4/4 [==============================] - 0s 5ms/step - loss: 0.6092 - accuracy: 0.8250 - binary_accuracy: 0.2417 - val_loss: 0.6966 - val_accuracy: 0.7000 - val_binary_accuracy: 0.2000\n",
      "Epoch 30/50\n",
      "4/4 [==============================] - 0s 6ms/step - loss: 0.5938 - accuracy: 0.8250 - binary_accuracy: 0.2472 - val_loss: 0.6818 - val_accuracy: 0.7000 - val_binary_accuracy: 0.2000\n",
      "Epoch 31/50\n",
      "4/4 [==============================] - 0s 6ms/step - loss: 0.5790 - accuracy: 0.8500 - binary_accuracy: 0.2528 - val_loss: 0.6654 - val_accuracy: 0.7333 - val_binary_accuracy: 0.2000\n",
      "Epoch 32/50\n",
      "4/4 [==============================] - 0s 6ms/step - loss: 0.5641 - accuracy: 0.8500 - binary_accuracy: 0.2500 - val_loss: 0.6513 - val_accuracy: 0.7333 - val_binary_accuracy: 0.2000\n",
      "Epoch 33/50\n",
      "4/4 [==============================] - 0s 6ms/step - loss: 0.5505 - accuracy: 0.8583 - binary_accuracy: 0.2500 - val_loss: 0.6383 - val_accuracy: 0.7333 - val_binary_accuracy: 0.2000\n",
      "Epoch 34/50\n",
      "4/4 [==============================] - 0s 6ms/step - loss: 0.5376 - accuracy: 0.8583 - binary_accuracy: 0.2528 - val_loss: 0.6227 - val_accuracy: 0.7333 - val_binary_accuracy: 0.2000\n",
      "Epoch 35/50\n",
      "4/4 [==============================] - 0s 6ms/step - loss: 0.5246 - accuracy: 0.8583 - binary_accuracy: 0.2528 - val_loss: 0.6096 - val_accuracy: 0.7333 - val_binary_accuracy: 0.2111\n",
      "Epoch 36/50\n",
      "4/4 [==============================] - 0s 5ms/step - loss: 0.5127 - accuracy: 0.8583 - binary_accuracy: 0.2556 - val_loss: 0.6000 - val_accuracy: 0.7333 - val_binary_accuracy: 0.2111\n",
      "Epoch 37/50\n",
      "4/4 [==============================] - 0s 5ms/step - loss: 0.5012 - accuracy: 0.8667 - binary_accuracy: 0.2611 - val_loss: 0.5863 - val_accuracy: 0.7333 - val_binary_accuracy: 0.2111\n",
      "Epoch 38/50\n",
      "4/4 [==============================] - 0s 5ms/step - loss: 0.4914 - accuracy: 0.8583 - binary_accuracy: 0.2611 - val_loss: 0.5782 - val_accuracy: 0.7333 - val_binary_accuracy: 0.2111\n",
      "Epoch 39/50\n",
      "4/4 [==============================] - 0s 5ms/step - loss: 0.4797 - accuracy: 0.8667 - binary_accuracy: 0.2611 - val_loss: 0.5625 - val_accuracy: 0.7333 - val_binary_accuracy: 0.2111\n",
      "Epoch 40/50\n",
      "4/4 [==============================] - 0s 5ms/step - loss: 0.4694 - accuracy: 0.8917 - binary_accuracy: 0.2667 - val_loss: 0.5490 - val_accuracy: 0.7667 - val_binary_accuracy: 0.2222\n",
      "Epoch 41/50\n",
      "4/4 [==============================] - 0s 6ms/step - loss: 0.4599 - accuracy: 0.8917 - binary_accuracy: 0.2750 - val_loss: 0.5413 - val_accuracy: 0.7667 - val_binary_accuracy: 0.2444\n",
      "Epoch 42/50\n",
      "4/4 [==============================] - 0s 5ms/step - loss: 0.4495 - accuracy: 0.8917 - binary_accuracy: 0.2861 - val_loss: 0.5285 - val_accuracy: 0.8000 - val_binary_accuracy: 0.2667\n",
      "Epoch 43/50\n",
      "4/4 [==============================] - 0s 6ms/step - loss: 0.4403 - accuracy: 0.9000 - binary_accuracy: 0.2917 - val_loss: 0.5146 - val_accuracy: 0.8667 - val_binary_accuracy: 0.2556\n",
      "Epoch 44/50\n",
      "4/4 [==============================] - 0s 6ms/step - loss: 0.4309 - accuracy: 0.9083 - binary_accuracy: 0.2889 - val_loss: 0.5030 - val_accuracy: 0.8667 - val_binary_accuracy: 0.2556\n",
      "Epoch 45/50\n",
      "4/4 [==============================] - 0s 5ms/step - loss: 0.4213 - accuracy: 0.9083 - binary_accuracy: 0.3000 - val_loss: 0.4966 - val_accuracy: 0.8667 - val_binary_accuracy: 0.2667\n",
      "Epoch 46/50\n",
      "4/4 [==============================] - 0s 5ms/step - loss: 0.4125 - accuracy: 0.9083 - binary_accuracy: 0.3028 - val_loss: 0.4886 - val_accuracy: 0.8667 - val_binary_accuracy: 0.2667\n",
      "Epoch 47/50\n",
      "4/4 [==============================] - 0s 5ms/step - loss: 0.4040 - accuracy: 0.9083 - binary_accuracy: 0.3083 - val_loss: 0.4786 - val_accuracy: 0.8667 - val_binary_accuracy: 0.2667\n",
      "Epoch 48/50\n",
      "4/4 [==============================] - 0s 5ms/step - loss: 0.3957 - accuracy: 0.9167 - binary_accuracy: 0.3111 - val_loss: 0.4688 - val_accuracy: 0.9000 - val_binary_accuracy: 0.2778\n",
      "Epoch 49/50\n",
      "4/4 [==============================] - 0s 6ms/step - loss: 0.3876 - accuracy: 0.9167 - binary_accuracy: 0.3167 - val_loss: 0.4590 - val_accuracy: 0.9000 - val_binary_accuracy: 0.2778\n",
      "Epoch 50/50\n",
      "4/4 [==============================] - 0s 5ms/step - loss: 0.3802 - accuracy: 0.9167 - binary_accuracy: 0.3167 - val_loss: 0.4522 - val_accuracy: 0.9000 - val_binary_accuracy: 0.3000\n"
     ]
    }
   ],
   "source": [
    "EPOCHS = 50\n",
    "BATCH_SIZE = 32\n",
    "\n",
    "EARLY_STOPPING = tf.keras.callbacks.EarlyStopping(\n",
    "    monitor=\"val_loss\", mode=\"auto\", restore_best_weights=True\n",
    ")\n",
    "\n",
    "# Instantiate classifier\n",
    "classifier = iris_mlp(metrics=[\"accuracy\", \"binary_accuracy\"])\n",
    "\n",
    "# Fit classifier\n",
    "history = classifier.fit(\n",
    "    x=train_np,\n",
    "    y=train_labels,\n",
    "    validation_data=(test_np, test_labels),\n",
    "    callbacks=[EARLY_STOPPING],\n",
    "    batch_size=BATCH_SIZE,\n",
    "    epochs=EPOCHS,\n",
    ")"
   ]
  },
  {
   "cell_type": "markdown",
   "metadata": {},
   "source": [
    "## Set up hosting for the model\n",
    "\n",
    "### Export the model from tensorflow\n",
    "\n",
    "In order to set up hosting, we have to import the model from training to hosting. We will begin by exporting the model from TensorFlow and saving it to our file system. We also need to convert the model into a form that is readable by ``sagemaker.tensorflow.model.TensorFlowModel``. There is a small difference between a SageMaker model and a TensorFlow model. The conversion is easy and fairly trivial. Simply move the tensorflow exported model into a directory ``export\\Servo\\`` and tar the entire directory. SageMaker will recognize this as a loadable TensorFlow model."
   ]
  },
  {
   "cell_type": "code",
   "execution_count": 6,
   "metadata": {},
   "outputs": [
    {
     "name": "stdout",
     "output_type": "stream",
     "text": [
      "WARNING:tensorflow:From /usr/local/lib/python3.7/site-packages/tensorflow/python/training/tracking/tracking.py:111: Model.state_updates (from tensorflow.python.keras.engine.training) is deprecated and will be removed in a future version.\n",
      "Instructions for updating:\n",
      "This property should not be used in TensorFlow 2.0, as updates are applied automatically.\n"
     ]
    },
    {
     "name": "stderr",
     "output_type": "stream",
     "text": [
      "WARNING:tensorflow:From /usr/local/lib/python3.7/site-packages/tensorflow/python/training/tracking/tracking.py:111: Model.state_updates (from tensorflow.python.keras.engine.training) is deprecated and will be removed in a future version.\n",
      "Instructions for updating:\n",
      "This property should not be used in TensorFlow 2.0, as updates are applied automatically.\n"
     ]
    },
    {
     "name": "stdout",
     "output_type": "stream",
     "text": [
      "WARNING:tensorflow:From /usr/local/lib/python3.7/site-packages/tensorflow/python/training/tracking/tracking.py:111: Layer.updates (from tensorflow.python.keras.engine.base_layer) is deprecated and will be removed in a future version.\n",
      "Instructions for updating:\n",
      "This property should not be used in TensorFlow 2.0, as updates are applied automatically.\n"
     ]
    },
    {
     "name": "stderr",
     "output_type": "stream",
     "text": [
      "WARNING:tensorflow:From /usr/local/lib/python3.7/site-packages/tensorflow/python/training/tracking/tracking.py:111: Layer.updates (from tensorflow.python.keras.engine.base_layer) is deprecated and will be removed in a future version.\n",
      "Instructions for updating:\n",
      "This property should not be used in TensorFlow 2.0, as updates are applied automatically.\n"
     ]
    },
    {
     "name": "stdout",
     "output_type": "stream",
     "text": [
      "INFO:tensorflow:Assets written to: export/Servo/1/assets\n"
     ]
    },
    {
     "name": "stderr",
     "output_type": "stream",
     "text": [
      "INFO:tensorflow:Assets written to: export/Servo/1/assets\n"
     ]
    }
   ],
   "source": [
    "classifier.save(\"export/Servo/1\")\n",
    "with tarfile.open(\"model.tar.gz\", \"w:gz\") as tar:\n",
    "    tar.add(\"export\")"
   ]
  },
  {
   "cell_type": "markdown",
   "metadata": {},
   "source": [
    "Open a new sagemaker session and upload the model on to the default S3 bucket. We can use the ``sagemaker.Session.upload_data`` method to do this. We need the location of where we exported the model from TensorFlow and where in our default bucket we want to store the model(``/model``). The default S3 bucket can be found using the ``sagemaker.Session.default_bucket`` method."
   ]
  },
  {
   "cell_type": "markdown",
   "metadata": {},
   "source": [
    "Here, we upload the model to S3"
   ]
  },
  {
   "cell_type": "code",
   "execution_count": 7,
   "metadata": {},
   "outputs": [],
   "source": [
    "s3_response = sm_session.upload_data(\n",
    "    \"model.tar.gz\", bucket=bucket_name, key_prefix=\"model\"\n",
    ")"
   ]
  },
  {
   "cell_type": "markdown",
   "metadata": {},
   "source": [
    "### Import model into SageMaker"
   ]
  },
  {
   "cell_type": "markdown",
   "metadata": {},
   "source": [
    "Use the ``sagemaker.tensorflow.model.TensorFlowModel`` to import the model into SageMaker that can be deployed. We need the location of the S3 bucket where we have the model and the role for authentication."
   ]
  },
  {
   "cell_type": "code",
   "execution_count": 8,
   "metadata": {},
   "outputs": [],
   "source": [
    "sagemaker_model = TensorFlowModel(\n",
    "    model_data=f\"s3://{bucket_name}/model/model.tar.gz\",\n",
    "    role=role,\n",
    "    framework_version=\"2.3\",\n",
    ")"
   ]
  },
  {
   "cell_type": "markdown",
   "metadata": {},
   "source": [
    "### Create endpoint\n",
    "\n",
    "Now the model is ready to be deployed at a SageMaker endpoint. We can use the ``sagemaker.tensorflow.model.TensorFlowModel.deploy`` method to do this. Unless you have created or prefer other instances, we recommend using a single ``'ml.m5.xlarge'`` instance for this example. These are supplied as arguments. "
   ]
  },
  {
   "cell_type": "code",
   "execution_count": null,
   "metadata": {},
   "outputs": [
    {
     "name": "stderr",
     "output_type": "stream",
     "text": [
      "WARNING:sagemaker.deprecations:update_endpoint is a no-op in sagemaker>=2.\n",
      "See: https://sagemaker.readthedocs.io/en/stable/v2.html for details.\n",
      "INFO:sagemaker:Creating model with name: tensorflow-inference-2022-01-25-16-56-47-329\n",
      "INFO:sagemaker:Creating endpoint with name tensorflow-inference-2022-01-25-16-56-47-641\n"
     ]
    },
    {
     "name": "stdout",
     "output_type": "stream",
     "text": [
      "----"
     ]
    }
   ],
   "source": [
    "%%time\n",
    "predictor = sagemaker_model.deploy(\n",
    "    initial_instance_count=1, instance_type=\"ml.m5.xlarge\"\n",
    ")"
   ]
  },
  {
   "cell_type": "markdown",
   "metadata": {},
   "source": [
    "### Validate the endpoint for use\n",
    "\n",
    "We can now use this endpoint to classify an example to ensure that it works. The output from `predict` will be an array of probabilities for each of the 3 classes."
   ]
  },
  {
   "cell_type": "code",
   "execution_count": null,
   "metadata": {},
   "outputs": [],
   "source": [
    "sample = [6.4, 3.2, 4.5, 1.5]\n",
    "predictor.predict(sample)"
   ]
  },
  {
   "cell_type": "markdown",
   "metadata": {},
   "source": [
    "Delete all temporary directories so that we are not affecting the next run. Also, optionally delete the end points."
   ]
  },
  {
   "cell_type": "code",
   "execution_count": null,
   "metadata": {},
   "outputs": [],
   "source": [
    "os.remove(\"model.tar.gz\")\n",
    "os.remove(\"iris_test.csv\")\n",
    "os.remove(\"iris_train.csv\")\n",
    "os.remove(\"iris.data\")\n",
    "shutil.rmtree(\"export\")"
   ]
  },
  {
   "cell_type": "markdown",
   "metadata": {},
   "source": [
    "If you do not want to continue using the endpoint, you can remove it. Remember, open endpoints are charged. If this is a simple test or practice, it is recommended to delete them."
   ]
  },
  {
   "cell_type": "code",
   "execution_count": null,
   "metadata": {},
   "outputs": [],
   "source": [
    "predictor.delete_endpoint()"
   ]
  }
 ],
 "metadata": {
  "instance_type": "ml.g4dn.xlarge",
  "kernelspec": {
   "display_name": "Python 3 (TensorFlow 2.3 Python 3.7 GPU Optimized)",
   "language": "python",
   "name": "python3__SAGEMAKER_INTERNAL__arn:aws:sagemaker:us-east-2:429704687514:image/tensorflow-2.3-gpu-py37-cu110-ubuntu18.04-v3"
  },
  "language_info": {
   "codemirror_mode": {
    "name": "ipython",
    "version": 3
   },
   "file_extension": ".py",
   "mimetype": "text/x-python",
   "name": "python",
   "nbconvert_exporter": "python",
   "pygments_lexer": "ipython3",
   "version": "3.7.10"
  },
  "notice": "Copyright 2017 Amazon.com, Inc. or its affiliates. All Rights Reserved.  Licensed under the Apache License, Version 2.0 (the \"License\"). You may not use this file except in compliance with the License. A copy of the License is located at http://aws.amazon.com/apache2.0/ or in the \"license\" file accompanying this file. This file is distributed on an \"AS IS\" BASIS, WITHOUT WARRANTIES OR CONDITIONS OF ANY KIND, either express or implied. See the License for the specific language governing permissions and limitations under the License."
 },
 "nbformat": 4,
 "nbformat_minor": 4
}

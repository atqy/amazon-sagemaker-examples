{
 "cells": [
  {
   "cell_type": "code",
   "execution_count": null,
   "metadata": {},
   "outputs": [],
   "source": [
    "estimator = MXNet(\n",
    "    entry_point=CODE_ENTRY,\n",
    "    source_dir=CODE_PATH,\n",
    "    role=role,\n",
    "    train_instance_count=1,\n",
    "    train_instance_type=\"ml.g5.xlarge\",\n",
    "    image_uri=image,\n",
    "    hyperparameters=params,\n",
    "    tags=task_tags,\n",
    "    sagemaker_session=sess,\n",
    ")\n"
   ]
  }
 ],
 "metadata": {
  "language_info": {
   "name": "python"
  },
  "orig_nbformat": 4
 },
 "nbformat": 4,
 "nbformat_minor": 2
}

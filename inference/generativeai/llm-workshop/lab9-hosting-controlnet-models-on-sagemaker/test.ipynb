{
 "cells": [
  {
   "cell_type": "code",
   "execution_count": null,
   "id": "433cf1bd-cc60-4995-8665-d905aa20c300",
   "metadata": {},
   "outputs": [],
   "source": []
  },
  {
   "cell_type": "markdown",
   "id": "dde588c4-7d30-44aa-b9fd-4bdf19bfcfa3",
   "metadata": {},
   "source": [
    "# Bring your own container\n"
   ]
  },
  {
   "cell_type": "markdown",
   "id": "d5ed1bfc-55c7-4202-b323-345c528d1b33",
   "metadata": {},
   "source": [
    "---\n",
    "\n",
    "This notebook's CI test result for us-west-2 is as follows. CI test results in other regions can be found at the end of the notebook. \n",
    "\n",
    "![This us-west-2 badge failed to load. Check your device's internet connectivity, otherwise the service is currently unavailable](https://h75twx4l60.execute-api.us-west-2.amazonaws.com/sagemaker-nb/us-west-2/inference|nlp|realtime|byoc|multi_model_catboost.ipynb)\n",
    "\n",
    "---"
   ]
  },
  {
   "cell_type": "markdown",
   "id": "0e251da6-e189-4afe-acdb-06cb9abeea06",
   "metadata": {},
   "source": [
    "\n",
    "This notebook shows an example of bring your own container. This example leverages the MultiModelServer to host MME and this example \n",
    "can be further modified and adapted to fit your needs\n"
   ]
  },
  {
   "cell_type": "markdown",
   "id": "f40a19d5-d817-4792-9b50-4cb98b89e868",
   "metadata": {},
   "source": [
    "# Multi-Model Endpoint - CatBoost\n",
    "\n",
    "This example notebook also showcases how to use a custom container to host multiple CatBoost models on a SageMaker Multi Model Endpoint. The model this notebook deploys is taken from this [CatBoost tutorial](https://github.com/catboost/tutorials/blob/master/python_tutorial_with_tasks.ipynb). \n",
    "\n",
    "We are using this framework as an example to demonstrate deployment and serving using MultiModel Endpoint and showcase the capability. This notebook can be extended to any framework.\n",
    "\n",
    "Catboost is gaining in popularity and is not yet supported as a framework for SageMaker MultiModelEndpoint. Further this example serves to demostrate how to bring your own container to a MultiModelEndpoint\n",
    "\n",
    "In this Notebook we will use identical model to simulate multiple models for loading and inference"
   ]
  },
  {
   "cell_type": "markdown",
   "id": "e43e6dc4-bd22-4e6f-805c-4bd3141346a7",
   "metadata": {},
   "source": [
    "## Prerequisites\n",
    "### Packages and Permissions\n",
    "The SageMaker SDK uses the SageMaker default S3 bucket when needed. If the get_execution_role does not return a role with the appropriate permissions, you'll need to specify an IAM role ARN that does. Please make sure the `SageMakerFullAccess` policy is attached to the execution role you are using."
   ]
  },
  {
   "cell_type": "markdown",
   "id": "ae8e494d-b74f-4b68-aeec-f8520c783507",
   "metadata": {},
   "source": [
    "## Load model and test local inference\n",
    "Here, install `catboost` to test we can load up the model locally and make inference. \n",
    "\n",
    "We load up the model locally using `CatBoostClassifier()`. `test_data.csv` contains a single row of test inference data."
   ]
  },
  {
   "cell_type": "code",
   "execution_count": null,
   "id": "4532741c-665b-4e72-afbe-409dbb75841b",
   "metadata": {},
   "outputs": [],
   "source": [
    "# Cell 01\n",
    "\n",
    "!pip install catboost"
   ]
  },
  {
   "cell_type": "code",
   "execution_count": null,
   "id": "cf5cf16c-2d97-43de-b34f-6a14c06c2d5c",
   "metadata": {},
   "outputs": [],
   "source": [
    "# Cell 02\n",
    "from catboost import CatBoostClassifier, Pool as CatboostPool, cv\n",
    "import os\n",
    "import pandas\n",
    "\n",
    "model_file = CatBoostClassifier()\n",
    "model_file = model_file.load_model(\"./models/mme_catboost/catboost_model.bin\")\n",
    "df = pandas.read_csv(\"./data/mme_catboost/test_data.csv\")\n",
    "df.head(2)"
   ]
  },
  {
   "cell_type": "code",
   "execution_count": null,
   "id": "29f05614-10cf-4748-93ba-283d92585de4",
   "metadata": {},
   "outputs": [],
   "source": [
    "# Cell 03\n",
    "import pandas as pd\n",
    "import io\n",
    "import json\n",
    "\n",
    "out = model_file.predict_proba(df)\n",
    "print(out)"
   ]
  },
  {
   "cell_type": "markdown",
   "id": "36a26431-88b1-485c-b15f-c6f71002571b",
   "metadata": {},
   "source": [
    "## Upload tar ball to s3\n"
   ]
  },
  {
   "cell_type": "markdown",
   "id": "9a9e563a-7a0d-4ed0-a6e6-cde88791f652",
   "metadata": {},
   "source": [
    "### Create a model tar ball\n",
    "\n",
    "SageMaker requires our model to be packaged in a tar.gz file."
   ]
  },
  {
   "cell_type": "code",
   "execution_count": null,
   "id": "7ac852b7-197e-490b-8ba1-636c53797f9b",
   "metadata": {},
   "outputs": [],
   "source": [
    "# Cell 04\n",
    "!cd models/mme_catboost && tar -czvf catboost-model.tar.gz catboost_model.bin\n",
    "!ls models/mme_catboost"
   ]
  },
  {
   "cell_type": "markdown",
   "id": "deef89f5-9f51-4f41-9756-eff4cc6d4489",
   "metadata": {},
   "source": [
    "### Upload 5 copies of the model to S3\n",
    "\n",
    "Multi-Model Endpoints require all our models to be in a specific S3 prefix. Here we upload 100 of them to our default bucket. \n",
    "\n",
    "This is a simulation of having different models which we need to use to predict. In reality you would probably have each of these models trained separately"
   ]
  },
  {
   "cell_type": "code",
   "execution_count": null,
   "id": "1dcd7e17-e0b6-49c0-a956-97d57edff1e2",
   "metadata": {},
   "outputs": [],
   "source": [
    "# Cell 05\n",
    "import sagemaker\n",
    "\n",
    "sess = sagemaker.Session()\n",
    "s3_bucket = sess.default_bucket()  # Replace with your own bucket name if needed\n",
    "print(s3_bucket)"
   ]
  },
  {
   "cell_type": "markdown",
   "id": "1e377964-7e7d-4889-bb06-67f8b565143f",
   "metadata": {},
   "source": [
    "### Upload the model tar balls using boto3 with a unique name"
   ]
  },
  {
   "cell_type": "code",
   "execution_count": null,
   "id": "1d2351fb-f095-4a6b-95c3-724d993e282b",
   "metadata": {},
   "outputs": [],
   "source": [
    "# Cell 06\n",
    "import boto3\n",
    "\n",
    "s3 = boto3.client(\"s3\")\n",
    "for i in range(0, 5):\n",
    "    with open(\"models/mme_catboost/catboost-model.tar.gz\", \"rb\") as f:\n",
    "        s3.upload_fileobj(f, s3_bucket, \"catboost/catboost-model-{}.tar.gz\".format(i))\n",
    "\n",
    "print(\"Models:uploaded and ready for use\")"
   ]
  },
  {
   "cell_type": "markdown",
   "id": "ce57452c-7971-4547-a70b-537820e6de1b",
   "metadata": {},
   "source": [
    "### List all models in s3 prefix we will use for our Multi-Model Endpoint"
   ]
  },
  {
   "cell_type": "code",
   "execution_count": null,
   "id": "36b20cf6-4f4b-43bb-96be-96d8fff31edf",
   "metadata": {},
   "outputs": [],
   "source": [
    "# Cell 07\n",
    "!aws s3 ls s3://$s3_bucket/catboost/"
   ]
  },
  {
   "cell_type": "markdown",
   "id": "e8885520-3463-412a-bc72-18493ff08b8e",
   "metadata": {},
   "source": [
    "## Building the custom container"
   ]
  },
  {
   "cell_type": "markdown",
   "id": "00337eec-eff4-4f29-8492-322dba995b60",
   "metadata": {},
   "source": [
    "The container folder in this example contains 3 files:\n",
    "```\n",
    "├── container\n",
    "│   ├── dockerd-entrypoint.py\n",
    "│   ├── Dockerfile\n",
    "│   └── model_handler.py\n",
    "```\n",
    "\n",
    "- `dockerd-entrypoint.py` is the entry point script that will start the multi model server.\n",
    "- `Dockerfile` contains the container definition that will be used to assemble the image. This includes the packages that need to be installed.\n",
    "- `model_handler.py` is the script that will contain the logic to load up the model and make inference.\n",
    "\n",
    "Take a look through the files to see if there is any customization that you would like to do.\n",
    "Below cells highlight the main part of the files. \n"
   ]
  },
  {
   "cell_type": "markdown",
   "id": "062698b4-1538-4203-9703-1de4277df28a",
   "metadata": {},
   "source": [
    "### Install catboost in the `Dockerfile`"
   ]
  },
  {
   "cell_type": "code",
   "execution_count": null,
   "id": "4bb73f9a-85c1-42db-9ed5-5a6566ccb8eb",
   "metadata": {},
   "outputs": [],
   "source": [
    "# Cell 08\n",
    "! sed -n '26,30p' container/mme_catboost/Dockerfile"
   ]
  },
  {
   "cell_type": "markdown",
   "id": "93f39a15-2936-417b-b070-369d715756f2",
   "metadata": {},
   "source": [
    "### Update `initialize` function in `model_handler.py` with logic to load up the model\n",
    "In this case we are using `CatBoostClassifier()`. Feel free to update the loading logic in this function to your needs."
   ]
  },
  {
   "cell_type": "code",
   "execution_count": null,
   "id": "9cf859b6-ec99-4591-b7cd-36d77b710810",
   "metadata": {},
   "outputs": [],
   "source": [
    "# Cell 09\n",
    "! sed -n '22,40p' ./container/mme_catboost/model_handler.py"
   ]
  },
  {
   "cell_type": "markdown",
   "id": "d0318d4d-381f-4205-9a6a-99007ac63b9b",
   "metadata": {},
   "source": [
    "### Update `handle` function in `model_handler.py` with logic to load up the model"
   ]
  },
  {
   "cell_type": "code",
   "execution_count": null,
   "id": "13995c27-aff3-4a2c-8e2b-d63587fe8e07",
   "metadata": {},
   "outputs": [],
   "source": [
    "# Cell 10\n",
    "! sed -n '70,85p' ./container/mme_catboost/model_handler.py"
   ]
  },
  {
   "cell_type": "markdown",
   "id": "2ea68ee6-396b-4b2b-9308-ca75e7fc6df7",
   "metadata": {},
   "source": [
    "### Build and Push the custom image to ECR\n",
    "\n",
    "**This steps takes atleast 5-6 minutes so please be patient and ignore any \"warnings\" **"
   ]
  },
  {
   "cell_type": "code",
   "execution_count": null,
   "id": "be67f75e-2c60-4ff0-9430-cedd4e251a1d",
   "metadata": {},
   "outputs": [],
   "source": [
    "%%sh\n",
    "# Cell 11\n",
    "\n",
    "echo \"Starting Docker Build\"\n",
    "\n",
    "# The name of our algorithm\n",
    "algorithm_name=catboost-sagemaker-multimodel\n",
    "\n",
    "cd container/mme_catboost\n",
    "\n",
    "account=$(aws sts get-caller-identity --query Account --output text)\n",
    "\n",
    "# Get the region defined in the current configuration (default to us-east-1 if none defined)\n",
    "region=$(aws configure get region)\n",
    "region=${region:-us-east-1}\n",
    "\n",
    "fullname=\"${account}.dkr.ecr.${region}.amazonaws.com/${algorithm_name}:latest\"\n",
    "\n",
    "echo \"fullname:image=${fullname}\"\n",
    "\n",
    "# If the repository doesn't exist in ECR, create it.\n",
    "aws ecr describe-repositories --repository-names \"${algorithm_name}\" > /dev/null 2>&1\n",
    "\n",
    "if [ $? -ne 0 ]\n",
    "then\n",
    "    aws ecr create-repository --repository-name \"${algorithm_name}\" > /dev/null\n",
    "fi\n",
    "\n",
    "# Get the login command from ECR and execute it directly\n",
    "$(aws ecr get-login --region ${region} --no-include-email)\n",
    "\n",
    "# Build the docker image locally with the image name and then push it to ECR\n",
    "# with the full name.\n",
    "\n",
    "echo \"Starting the Docker Build with ${algorithm_name}\"\n",
    "docker build -q -t ${algorithm_name} .\n",
    "docker tag ${algorithm_name} ${fullname}\n",
    "\n",
    "echo \"Pushing Docker image ${fullname} to ECR \"\n",
    "docker push ${fullname}"
   ]
  },
  {
   "cell_type": "markdown",
   "id": "e400b5c0-0d34-4930-8547-ccdcb42b6f78",
   "metadata": {},
   "source": [
    "### Deploy Multi Model Endpoint"
   ]
  },
  {
   "cell_type": "code",
   "execution_count": null,
   "id": "98f29b3c-d15d-4329-a606-905cfd53af06",
   "metadata": {},
   "outputs": [],
   "source": [
    "# Cell 12\n",
    "from sagemaker import get_execution_role\n",
    "\n",
    "sm_client = boto3.client(service_name=\"sagemaker\")\n",
    "runtime_sm_client = boto3.client(service_name=\"sagemaker-runtime\")\n",
    "\n",
    "account_id = boto3.client(\"sts\").get_caller_identity()[\"Account\"]\n",
    "region = boto3.Session().region_name\n",
    "\n",
    "role = get_execution_role()\n",
    "print(role)"
   ]
  },
  {
   "cell_type": "markdown",
   "id": "4df4f52c-1d76-4fa8-8bdf-aaf96fbb60ba",
   "metadata": {},
   "source": [
    "### Create the SageMaker Multi-Model"
   ]
  },
  {
   "cell_type": "code",
   "execution_count": null,
   "id": "6073ebf8-e264-4733-8cf7-c2462d6ae456",
   "metadata": {},
   "outputs": [],
   "source": [
    "# Cell 13\n",
    "from time import gmtime, strftime\n",
    "\n",
    "model_name = \"catboost-multimodel-\" + strftime(\"%Y-%m-%d-%H-%M-%S\", gmtime())\n",
    "model_url = \"s3://{}/catboost/\".format(s3_bucket)  ## MODEL S3 URL\n",
    "container = \"{}.dkr.ecr.{}.amazonaws.com/catboost-sagemaker-multimodel:latest\".format(\n",
    "    account_id, region\n",
    ")\n",
    "instance_type = \"ml.m5.xlarge\"\n",
    "\n",
    "print(\"Model name: \" + model_name)\n",
    "print(\"Model data Url: \" + model_url)\n",
    "print(\"Container image: \" + container)\n",
    "\n",
    "container = {\"Image\": container, \"ModelDataUrl\": model_url, \"Mode\": \"MultiModel\"}\n",
    "\n",
    "create_model_response = sm_client.create_model(\n",
    "    ModelName=model_name, ExecutionRoleArn=role, Containers=[container]\n",
    ")\n",
    "\n",
    "print(\"Model ARN: \" + create_model_response[\"ModelArn\"])"
   ]
  },
  {
   "cell_type": "markdown",
   "id": "6b348bcb-019d-432d-b780-37997c20e8f3",
   "metadata": {},
   "source": [
    "### Create the SageMaker Endpoint Configuration\n"
   ]
  },
  {
   "cell_type": "code",
   "execution_count": null,
   "id": "cc9ad829-d076-466a-8edc-3f606512dd9f",
   "metadata": {},
   "outputs": [],
   "source": [
    "# Cell 14\n",
    "endpoint_config_name = \"catboost-multimodel-config\" + strftime(\"%Y-%m-%d-%H-%M-%S\", gmtime())\n",
    "print(\"Endpoint config name: \" + endpoint_config_name)\n",
    "\n",
    "create_endpoint_config_response = sm_client.create_endpoint_config(\n",
    "    EndpointConfigName=endpoint_config_name,\n",
    "    ProductionVariants=[\n",
    "        {\n",
    "            \"InstanceType\": instance_type,\n",
    "            \"InitialInstanceCount\": 1,\n",
    "            \"InitialVariantWeight\": 1,\n",
    "            \"ModelName\": model_name,\n",
    "            \"VariantName\": \"AllTraffic\",\n",
    "        }\n",
    "    ],\n",
    ")\n",
    "\n",
    "print(\"Endpoint config ARN: \" + create_endpoint_config_response[\"EndpointConfigArn\"])"
   ]
  },
  {
   "cell_type": "markdown",
   "id": "2f1b6383-632b-4502-b384-b70b608d2dc0",
   "metadata": {},
   "source": [
    "### Create the SageMaker Multi-Model Endpoint\n",
    "\n",
    "**This step will take a couple of minutes**"
   ]
  },
  {
   "cell_type": "code",
   "execution_count": null,
   "id": "01abc640-42fd-424a-b5f5-878e10607917",
   "metadata": {},
   "outputs": [],
   "source": [
    "%%time\n",
    "# Cell 15\n",
    "\n",
    "import time\n",
    "\n",
    "endpoint_name = \"catboost-multimodel-endpoint-\" + strftime(\"%Y-%m-%d-%H-%M-%S\", gmtime())\n",
    "print(\"Endpoint name: \" + endpoint_name)\n",
    "\n",
    "create_endpoint_response = sm_client.create_endpoint(\n",
    "    EndpointName=endpoint_name, EndpointConfigName=endpoint_config_name\n",
    ")\n",
    "print(\"Endpoint Arn: \" + create_endpoint_response[\"EndpointArn\"])\n",
    "\n",
    "resp = sm_client.describe_endpoint(EndpointName=endpoint_name)\n",
    "status = resp[\"EndpointStatus\"]\n",
    "print(\"Endpoint Status: \" + status)\n",
    "\n",
    "print(\"Waiting for {} endpoint to be in service...\".format(endpoint_name))\n",
    "waiter = sm_client.get_waiter(\"endpoint_in_service\")\n",
    "waiter.wait(EndpointName=endpoint_name)\n",
    "\n",
    "print(\"Created {} endpoint is in Service and read to invoke ...\".format(endpoint_name))"
   ]
  },
  {
   "cell_type": "markdown",
   "id": "98da11bd-95fc-4867-9259-98e4736b130f",
   "metadata": {},
   "source": [
    "### Invoke each of the 5 models\n",
    "We have identical models here to simulate multiple models belonging to the same framework"
   ]
  },
  {
   "cell_type": "code",
   "execution_count": null,
   "id": "130fb892-f981-464f-9069-b751022912c8",
   "metadata": {},
   "outputs": [],
   "source": [
    "# Cell 16\n",
    "from datetime import datetime\n",
    "import time\n",
    "\n",
    "for i in range(0, 4):\n",
    "    start_time = datetime.now()\n",
    "    response = runtime_sm_client.invoke_endpoint(\n",
    "        EndpointName=endpoint_name,\n",
    "        TargetModel=\"catboost-model-{}.tar.gz\".format(i),\n",
    "        Body=df.to_csv(index=False),\n",
    "    )\n",
    "    time_delta = (datetime.now() - start_time).total_seconds() * 1000\n",
    "    time_delta = \"{:.2f}\".format(time_delta)\n",
    "\n",
    "    print(f'Time={time_delta} --- > ::{json.loads(response[\"Body\"].read().decode(\"utf-8\"))}')"
   ]
  },
  {
   "cell_type": "markdown",
   "id": "3e66f8ed-7f72-4bb1-9675-fa2bc8833afd",
   "metadata": {},
   "source": [
    "### Invoke just one of models 1000 times \n",
    "Since the models are in memory and loaded, these invocations should not have any latency \n"
   ]
  },
  {
   "cell_type": "code",
   "execution_count": null,
   "id": "407b5069-f344-44a4-a1ad-59b9713564ff",
   "metadata": {},
   "outputs": [],
   "source": [
    "# Cell 17\n",
    "import numpy as np\n",
    "\n",
    "print(\"Starting invocation for model::catboost-model-1.tar.gz, please wait ...\")\n",
    "results = []\n",
    "for i in range(0, 1000):\n",
    "    start = time.time()\n",
    "    response = runtime_sm_client.invoke_endpoint(\n",
    "        EndpointName=endpoint_name,\n",
    "        TargetModel=\"catboost-model-1.tar.gz\",\n",
    "        Body=df.to_csv(index=False),\n",
    "    )\n",
    "    results.append((time.time() - start) * 1000)\n",
    "print(\"\\nPredictions for model latency: \\n\")\n",
    "print(\"\\nP95: \" + str(np.percentile(results, 95)) + \" ms\\n\")\n",
    "print(\"P90: \" + str(np.percentile(results, 90)) + \" ms\\n\")\n",
    "print(\"Average: \" + str(np.average(results)) + \" ms\\n\")"
   ]
  },
  {
   "cell_type": "markdown",
   "id": "6500c2a7-37d0-48b4-9050-4e7e262295f1",
   "metadata": {
    "pycharm": {
     "name": "#%% md\n"
    }
   },
   "source": [
    "## Optional Clean up\n",
    "Clean up and delete the end point"
   ]
  },
  {
   "cell_type": "code",
   "execution_count": null,
   "id": "a10bb047-c023-4c0e-9df2-8f6be3086bc7",
   "metadata": {
    "pycharm": {
     "name": "#%%\n"
    }
   },
   "outputs": [],
   "source": [
    "# delete the end point\n",
    "# Cell 18\n",
    "\n",
    "sm_client.delete_endpoint(EndpointName=endpoint_name)"
   ]
  },
  {
   "cell_type": "markdown",
   "id": "712097cf-93fb-4658-8463-fd64a269f35f",
   "metadata": {},
   "source": [
    "## Notebook CI Test Results\n",
    "\n",
    "This notebook was tested in multiple regions. The test results are as follows, except for us-west-2 which is shown at the top of the notebook.\n",
    "\n",
    "![This us-east-1 badge failed to load. Check your device's internet connectivity, otherwise the service is currently unavailable](https://h75twx4l60.execute-api.us-west-2.amazonaws.com/sagemaker-nb/us-east-1/inference|nlp|realtime|byoc|multi_model_catboost.ipynb)\n",
    "\n",
    "![This us-east-2 badge failed to load. Check your device's internet connectivity, otherwise the service is currently unavailable](https://h75twx4l60.execute-api.us-west-2.amazonaws.com/sagemaker-nb/us-east-2/inference|nlp|realtime|byoc|multi_model_catboost.ipynb)\n",
    "\n",
    "![This us-west-1 badge failed to load. Check your device's internet connectivity, otherwise the service is currently unavailable](https://h75twx4l60.execute-api.us-west-2.amazonaws.com/sagemaker-nb/us-west-1/inference|nlp|realtime|byoc|multi_model_catboost.ipynb)\n",
    "\n",
    "![This ca-central-1 badge failed to load. Check your device's internet connectivity, otherwise the service is currently unavailable](https://h75twx4l60.execute-api.us-west-2.amazonaws.com/sagemaker-nb/ca-central-1/inference|nlp|realtime|byoc|multi_model_catboost.ipynb)\n",
    "\n",
    "![This sa-east-1 badge failed to load. Check your device's internet connectivity, otherwise the service is currently unavailable](https://h75twx4l60.execute-api.us-west-2.amazonaws.com/sagemaker-nb/sa-east-1/inference|nlp|realtime|byoc|multi_model_catboost.ipynb)\n",
    "\n",
    "![This eu-west-1 badge failed to load. Check your device's internet connectivity, otherwise the service is currently unavailable](https://h75twx4l60.execute-api.us-west-2.amazonaws.com/sagemaker-nb/eu-west-1/inference|nlp|realtime|byoc|multi_model_catboost.ipynb)\n",
    "\n",
    "![This eu-west-2 badge failed to load. Check your device's internet connectivity, otherwise the service is currently unavailable](https://h75twx4l60.execute-api.us-west-2.amazonaws.com/sagemaker-nb/eu-west-2/inference|nlp|realtime|byoc|multi_model_catboost.ipynb)\n",
    "\n",
    "![This eu-west-3 badge failed to load. Check your device's internet connectivity, otherwise the service is currently unavailable](https://h75twx4l60.execute-api.us-west-2.amazonaws.com/sagemaker-nb/eu-west-3/inference|nlp|realtime|byoc|multi_model_catboost.ipynb)\n",
    "\n",
    "![This eu-central-1 badge failed to load. Check your device's internet connectivity, otherwise the service is currently unavailable](https://h75twx4l60.execute-api.us-west-2.amazonaws.com/sagemaker-nb/eu-central-1/inference|nlp|realtime|byoc|multi_model_catboost.ipynb)\n",
    "\n",
    "![This eu-north-1 badge failed to load. Check your device's internet connectivity, otherwise the service is currently unavailable](https://h75twx4l60.execute-api.us-west-2.amazonaws.com/sagemaker-nb/eu-north-1/inference|nlp|realtime|byoc|multi_model_catboost.ipynb)\n",
    "\n",
    "![This ap-southeast-1 badge failed to load. Check your device's internet connectivity, otherwise the service is currently unavailable](https://h75twx4l60.execute-api.us-west-2.amazonaws.com/sagemaker-nb/ap-southeast-1/inference|nlp|realtime|byoc|multi_model_catboost.ipynb)\n",
    "\n",
    "![This ap-southeast-2 badge failed to load. Check your device's internet connectivity, otherwise the service is currently unavailable](https://h75twx4l60.execute-api.us-west-2.amazonaws.com/sagemaker-nb/ap-southeast-2/inference|nlp|realtime|byoc|multi_model_catboost.ipynb)\n",
    "\n",
    "![This ap-northeast-1 badge failed to load. Check your device's internet connectivity, otherwise the service is currently unavailable](https://h75twx4l60.execute-api.us-west-2.amazonaws.com/sagemaker-nb/ap-northeast-1/inference|nlp|realtime|byoc|multi_model_catboost.ipynb)\n",
    "\n",
    "![This ap-northeast-2 badge failed to load. Check your device's internet connectivity, otherwise the service is currently unavailable](https://h75twx4l60.execute-api.us-west-2.amazonaws.com/sagemaker-nb/ap-northeast-2/inference|nlp|realtime|byoc|multi_model_catboost.ipynb)\n",
    "\n",
    "![This ap-south-1 badge failed to load. Check your device's internet connectivity, otherwise the service is currently unavailable](https://h75twx4l60.execute-api.us-west-2.amazonaws.com/sagemaker-nb/ap-south-1/inference|nlp|realtime|byoc|multi_model_catboost.ipynb)\n"
   ]
  }
 ],
 "metadata": {
  "kernelspec": {
   "display_name": "conda_pytorch_p39",
   "language": "python",
   "name": "conda_pytorch_p39"
  },
  "language_info": {
   "codemirror_mode": {
    "name": "ipython",
    "version": 3
   },
   "file_extension": ".py",
   "mimetype": "text/x-python",
   "name": "python",
   "nbconvert_exporter": "python",
   "pygments_lexer": "ipython3",
   "version": "3.9.15"
  }
 },
 "nbformat": 4,
 "nbformat_minor": 5
}
